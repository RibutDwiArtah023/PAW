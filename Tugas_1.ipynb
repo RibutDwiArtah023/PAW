{
  "cells": [
    {
      "cell_type": "markdown",
      "metadata": {
        "id": "view-in-github",
        "colab_type": "text"
      },
      "source": [
        "<a href=\"https://colab.research.google.com/github/RibutDwiArtah023/PAW/blob/master/Tugas_1.ipynb\" target=\"_parent\"><img src=\"https://colab.research.google.com/assets/colab-badge.svg\" alt=\"Open In Colab\"/></a>"
      ]
    },
    {
      "cell_type": "markdown",
      "source": [
        "# **Tugas 1**"
      ],
      "metadata": {
        "id": "AlEWazoddd__"
      }
    },
    {
      "cell_type": "markdown",
      "source": [
        "Nama : Ribut Dwi Artah  \n",
        "NIM  : 200411100023  \n",
        "Kelas : Penambangan Data A"
      ],
      "metadata": {
        "id": "HChVlVtadl0q"
      }
    },
    {
      "cell_type": "markdown",
      "source": [
        "# **Topik Data**\n",
        "Data berasal dari makalah master yang tidak diterbitkan oleh Carl Hoffstedt. Mereka menghubungkan tingkat kecelakaan mobil, dalam kecelakaan per juta mil kendaraan dengan beberapa istilah potensial. Data mencakup 39 bagian jalan raya besar di negara bagian Minnesota pada tahun 1973. Tujuan dari analisis ini adalah untuk memahami dampak variabel desain, Acpts, Slim, Sig, dan Shldyang berada di bawah kendali departemen jalan raya, terhadap kecelakaan."
      ],
      "metadata": {
        "id": "rUdvb0fEeE_6"
      }
    },
    {
      "cell_type": "code",
      "source": [
        "import pandas as pd \n",
        "import matplotlib.pyplot as plt\n",
        "import seaborn as sns"
      ],
      "metadata": {
        "id": "XXd2jwEFe_CO"
      },
      "execution_count": 2,
      "outputs": []
    },
    {
      "cell_type": "code",
      "source": [
        "#untuk membaca dataset\n",
        "url = \"https://vincentarelbundock.github.io/Rdatasets/csv/carData/Highway1.csv\"\n",
        "dataset = pd.read_csv(url)"
      ],
      "metadata": {
        "id": "vCqxWYPWffWj"
      },
      "execution_count": 5,
      "outputs": []
    },
    {
      "cell_type": "code",
      "source": [
        "dataset.info( )"
      ],
      "metadata": {
        "colab": {
          "base_uri": "https://localhost:8080/"
        },
        "id": "gDic9GtIf79F",
        "outputId": "88bf9556-2481-4ee4-dfad-c7f157da502b"
      },
      "execution_count": 6,
      "outputs": [
        {
          "output_type": "stream",
          "name": "stdout",
          "text": [
            "<class 'pandas.core.frame.DataFrame'>\n",
            "RangeIndex: 39 entries, 0 to 38\n",
            "Data columns (total 13 columns):\n",
            " #   Column      Non-Null Count  Dtype  \n",
            "---  ------      --------------  -----  \n",
            " 0   Unnamed: 0  39 non-null     int64  \n",
            " 1   rate        39 non-null     float64\n",
            " 2   len         39 non-null     float64\n",
            " 3   adt         39 non-null     int64  \n",
            " 4   trks        39 non-null     int64  \n",
            " 5   sigs1       39 non-null     float64\n",
            " 6   slim        39 non-null     int64  \n",
            " 7   shld        39 non-null     int64  \n",
            " 8   lane        39 non-null     int64  \n",
            " 9   acpt        39 non-null     float64\n",
            " 10  itg         39 non-null     float64\n",
            " 11  lwid        39 non-null     int64  \n",
            " 12  htype       39 non-null     object \n",
            "dtypes: float64(5), int64(7), object(1)\n",
            "memory usage: 4.1+ KB\n"
          ]
        }
      ]
    },
    {
      "cell_type": "code",
      "source": [
        "data_len=dataset[\"len\"]\n",
        "data_len"
      ],
      "metadata": {
        "colab": {
          "base_uri": "https://localhost:8080/"
        },
        "id": "fsa9yzUxf8BY",
        "outputId": "e37059e0-647b-4203-8014-728d8fa2dac3"
      },
      "execution_count": 8,
      "outputs": [
        {
          "output_type": "execute_result",
          "data": {
            "text/plain": [
              "0      4.99\n",
              "1     16.11\n",
              "2      9.75\n",
              "3     10.65\n",
              "4     20.01\n",
              "5      5.97\n",
              "6      8.57\n",
              "7      5.24\n",
              "8     15.79\n",
              "9      8.26\n",
              "10     7.03\n",
              "11    13.28\n",
              "12     5.40\n",
              "13     2.96\n",
              "14    11.75\n",
              "15     8.86\n",
              "16     9.78\n",
              "17     5.49\n",
              "18     8.63\n",
              "19    20.31\n",
              "20    40.09\n",
              "21    11.81\n",
              "22    11.39\n",
              "23    22.00\n",
              "24     3.58\n",
              "25     3.23\n",
              "26     7.73\n",
              "27    14.41\n",
              "28    11.54\n",
              "29    11.10\n",
              "30    22.09\n",
              "31     9.39\n",
              "32    19.49\n",
              "33    21.01\n",
              "34    27.16\n",
              "35    14.03\n",
              "36    20.63\n",
              "37    20.06\n",
              "38    12.91\n",
              "Name: len, dtype: float64"
            ]
          },
          "metadata": {},
          "execution_count": 8
        }
      ]
    },
    {
      "cell_type": "markdown",
      "source": [
        "2"
      ],
      "metadata": {
        "id": "5sCObyfbg7Sf"
      }
    },
    {
      "cell_type": "markdown",
      "source": [
        "Median"
      ],
      "metadata": {
        "id": "nTKVRaephBZl"
      }
    },
    {
      "cell_type": "code",
      "source": [
        "dataset[\"len\"].median()"
      ],
      "metadata": {
        "colab": {
          "base_uri": "https://localhost:8080/"
        },
        "id": "aM8kkX3DhADG",
        "outputId": "dfa1ff58-54f3-4b99-b8ab-b623463a4fb2"
      },
      "execution_count": 9,
      "outputs": [
        {
          "output_type": "execute_result",
          "data": {
            "text/plain": [
              "11.39"
            ]
          },
          "metadata": {},
          "execution_count": 9
        }
      ]
    },
    {
      "cell_type": "markdown",
      "source": [
        "Mean"
      ],
      "metadata": {
        "id": "KTRsQlmLhPoW"
      }
    },
    {
      "cell_type": "code",
      "source": [
        "dataset[\"len\"].mean()"
      ],
      "metadata": {
        "colab": {
          "base_uri": "https://localhost:8080/"
        },
        "id": "ZQ_jOna5hO6T",
        "outputId": "cdf211ca-7cde-44a8-a834-94499cf475a9"
      },
      "execution_count": 10,
      "outputs": [
        {
          "output_type": "execute_result",
          "data": {
            "text/plain": [
              "12.884102564102562"
            ]
          },
          "metadata": {},
          "execution_count": 10
        }
      ]
    },
    {
      "cell_type": "markdown",
      "source": [
        "Modus"
      ],
      "metadata": {
        "id": "SgiIV8a0hfa4"
      }
    },
    {
      "cell_type": "code",
      "source": [
        "dataset[\"len\"].mode()"
      ],
      "metadata": {
        "colab": {
          "base_uri": "https://localhost:8080/"
        },
        "id": "1_I-0SA1g8-i",
        "outputId": "26fed46f-f5f8-4e6e-c1c9-b97ea7665db1"
      },
      "execution_count": 11,
      "outputs": [
        {
          "output_type": "execute_result",
          "data": {
            "text/plain": [
              "0      2.96\n",
              "1      3.23\n",
              "2      3.58\n",
              "3      4.99\n",
              "4      5.24\n",
              "5      5.40\n",
              "6      5.49\n",
              "7      5.97\n",
              "8      7.03\n",
              "9      7.73\n",
              "10     8.26\n",
              "11     8.57\n",
              "12     8.63\n",
              "13     8.86\n",
              "14     9.39\n",
              "15     9.75\n",
              "16     9.78\n",
              "17    10.65\n",
              "18    11.10\n",
              "19    11.39\n",
              "20    11.54\n",
              "21    11.75\n",
              "22    11.81\n",
              "23    12.91\n",
              "24    13.28\n",
              "25    14.03\n",
              "26    14.41\n",
              "27    15.79\n",
              "28    16.11\n",
              "29    19.49\n",
              "30    20.01\n",
              "31    20.06\n",
              "32    20.31\n",
              "33    20.63\n",
              "34    21.01\n",
              "35    22.00\n",
              "36    22.09\n",
              "37    27.16\n",
              "38    40.09\n",
              "dtype: float64"
            ]
          },
          "metadata": {},
          "execution_count": 11
        }
      ]
    },
    {
      "cell_type": "markdown",
      "source": [
        "3"
      ],
      "metadata": {
        "id": "l7FBRS0IhuXL"
      }
    },
    {
      "cell_type": "code",
      "source": [
        "#melihat seberapa besar kemiringan/menghitung kemiiringan\n",
        "data_len.skew()"
      ],
      "metadata": {
        "colab": {
          "base_uri": "https://localhost:8080/"
        },
        "id": "_fBmabiphr2m",
        "outputId": "a7f78694-3305-4948-acbb-8f50e5a38224"
      },
      "execution_count": 12,
      "outputs": [
        {
          "output_type": "execute_result",
          "data": {
            "text/plain": [
              "1.3543095796817592"
            ]
          },
          "metadata": {},
          "execution_count": 12
        }
      ]
    },
    {
      "cell_type": "code",
      "source": [
        "plt.figure()\n",
        "sns.distplot(data_len)\n",
        "plt.show()"
      ],
      "metadata": {
        "colab": {
          "base_uri": "https://localhost:8080/",
          "height": 335
        },
        "id": "0JpBp-P2g9Cp",
        "outputId": "f8908437-eed4-4b0b-c591-c52f6711eb9a"
      },
      "execution_count": 13,
      "outputs": [
        {
          "output_type": "stream",
          "name": "stderr",
          "text": [
            "/usr/local/lib/python3.7/dist-packages/seaborn/distributions.py:2619: FutureWarning: `distplot` is a deprecated function and will be removed in a future version. Please adapt your code to use either `displot` (a figure-level function with similar flexibility) or `histplot` (an axes-level function for histograms).\n",
            "  warnings.warn(msg, FutureWarning)\n"
          ]
        },
        {
          "output_type": "display_data",
          "data": {
            "text/plain": [
              "<Figure size 432x288 with 1 Axes>"
            ],
            "image/png": "[encoded data removed]"
          },
          "metadata": {
            "needs_background": "light"
          }
        }
      ]
    }
  ],
  "metadata": {
    "kernelspec": {
      "display_name": "Python 3",
      "language": "python",
      "name": "python3"
    },
    "language_info": {
      "codemirror_mode": {
        "name": "ipython",
        "version": 3
      },
      "file_extension": ".py",
      "mimetype": "text/x-python",
      "name": "python",
      "nbconvert_exporter": "python",
      "pygments_lexer": "ipython3",
      "version": "3.8.0"
    },
    "colab": {
      "provenance": [],
      "collapsed_sections": [],
      "include_colab_link": true
    }
  },
  "nbformat": 4,
  "nbformat_minor": 0
}